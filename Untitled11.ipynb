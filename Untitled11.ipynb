{
 "cells": [
  {
   "cell_type": "code",
   "execution_count": 7,
   "id": "2941c5c8-c837-48db-ad96-49951126bc44",
   "metadata": {},
   "outputs": [
    {
     "name": "stdout",
     "output_type": "stream",
     "text": [
      "Good Morning Soumya\n"
     ]
    }
   ],
   "source": [
    "\n",
    "#Lambda functions\n",
    "greet = lambda name:print(f\"Good Morning {name}\")\n",
    "greet(\"Soumya\")"
   ]
  },
  {
   "cell_type": "code",
   "execution_count": 14,
   "id": "ee6aaf42-1ee5-4806-bab8-dfa9be60fa63",
   "metadata": {},
   "outputs": [
    {
     "data": {
      "text/plain": [
       "2184"
      ]
     },
     "execution_count": 14,
     "metadata": {},
     "output_type": "execute_result"
    }
   ],
   "source": [
    "#product of 3 numbers\n",
    "product = lambda a,b,c : a*b*c\n",
    "product(12,13,14)"
   ]
  },
  {
   "cell_type": "code",
   "execution_count": 16,
   "id": "ec394143-a7ec-461a-b232-c37ced416644",
   "metadata": {},
   "outputs": [
    {
     "data": {
      "text/plain": [
       "[100, 200, 200, 300, 6]"
      ]
     },
     "execution_count": 16,
     "metadata": {},
     "output_type": "execute_result"
    }
   ],
   "source": [
    "even = lambda L : [x for x in L if x%2 == 0]\n",
    "my_list = [100,200,200,300,5,6,7]\n",
    "even(my_list)"
   ]
  },
  {
   "cell_type": "code",
   "execution_count": 20,
   "id": "19a12e2d-d1b9-4046-900f-40ba7c113ca9",
   "metadata": {},
   "outputs": [
    {
     "data": {
      "text/plain": [
       "[100, 200, 200, 300, 6]"
      ]
     },
     "execution_count": 20,
     "metadata": {},
     "output_type": "execute_result"
    }
   ],
   "source": [
    "odd = lambda L : [x for x in L if x%2 == 0]\n",
    "my_list = [100,200,200,300,5,6,7]\n",
    "odd(my_list)"
   ]
  },
  {
   "cell_type": "code",
   "execution_count": null,
   "id": "88057dc3-3dd0-4136-b103-eb9a8fa101f0",
   "metadata": {},
   "outputs": [],
   "source": []
  }
 ],
 "metadata": {
  "kernelspec": {
   "display_name": "Python [conda env:base] *",
   "language": "python",
   "name": "conda-base-py"
  },
  "language_info": {
   "codemirror_mode": {
    "name": "ipython",
    "version": 3
   },
   "file_extension": ".py",
   "mimetype": "text/x-python",
   "name": "python",
   "nbconvert_exporter": "python",
   "pygments_lexer": "ipython3",
   "version": "3.12.7"
  }
 },
 "nbformat": 4,
 "nbformat_minor": 5
}
